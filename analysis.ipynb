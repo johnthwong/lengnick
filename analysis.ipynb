{
 "cells": [
  {
   "cell_type": "code",
   "execution_count": 1,
   "id": "7434098a",
   "metadata": {},
   "outputs": [],
   "source": [
    "import mesa.visualization\n",
    "from mesa.visualization.ModularVisualization import ModularServer\n",
    "from mesa.visualization.modules import CanvasGrid, ChartModule, TextElement\n",
    "from mesa.visualization.ModularVisualization import ModularServer\n",
    "\n",
    "from agents import Firm, Household\n",
    "from model import MacroModel\n",
    "from matplotlib.figure import Figure\n",
    "import seaborn as sns"
   ]
  },
  {
   "cell_type": "code",
   "execution_count": 2,
   "id": "c70ed117",
   "metadata": {},
   "outputs": [
    {
     "name": "stderr",
     "output_type": "stream",
     "text": [
      "/Users/john/miniforge3/envs/latest_py/lib/python3.12/site-packages/mesa/time.py:82: FutureWarning: The AgentSet is experimental. It may be changed or removed in any and all future releases, including patch releases.\n",
      "We would love to hear what you think about this new feature. If you have any thoughts, share them with us here: https://github.com/projectmesa/mesa/discussions/1919\n",
      "  self._agents: AgentSet = AgentSet(agents, model)\n"
     ]
    },
    {
     "name": "stdout",
     "output_type": "stream",
     "text": [
      "0.0 year(s) have passed.\n",
      "1.0 year(s) have passed.\n",
      "2.0 year(s) have passed.\n",
      "3.0 year(s) have passed.\n",
      "4.0 year(s) have passed.\n",
      "5.0 year(s) have passed.\n",
      "6.0 year(s) have passed.\n",
      "7.0 year(s) have passed.\n",
      "8.0 year(s) have passed.\n",
      "9.0 year(s) have passed.\n",
      "10.0 year(s) have passed.\n",
      "11.0 year(s) have passed.\n",
      "12.0 year(s) have passed.\n",
      "13.0 year(s) have passed.\n",
      "14.0 year(s) have passed.\n",
      "15.0 year(s) have passed.\n",
      "16.0 year(s) have passed.\n",
      "17.0 year(s) have passed.\n",
      "18.0 year(s) have passed.\n",
      "19.0 year(s) have passed.\n"
     ]
    }
   ],
   "source": [
    "model=MacroModel()\n",
    "for day in range(20*12*21):\n",
    "    model.step()\n",
    "    day_of_year = day % (12*21)\n",
    "    if day_of_year == 0:\n",
    "        print(f\"{day/(12*21)} year(s) have passed.\")"
   ]
  },
  {
   "cell_type": "code",
   "execution_count": 3,
   "id": "a441829c",
   "metadata": {},
   "outputs": [],
   "source": [
    "data = model.datacollector.get_model_vars_dataframe()"
   ]
  },
  {
   "cell_type": "code",
   "execution_count": 4,
   "id": "5da0b245",
   "metadata": {},
   "outputs": [
    {
     "data": {
      "text/plain": [
       "Index(['Household Liquidity', 'Mean Price', 'Min Price', 'Max Price',\n",
       "       'Mean Wage', 'Min Wage', 'Max Wage', 'Mean Open Positions',\n",
       "       'Min Open Positions', 'Max Open Positions', 'Firm Liquidity',\n",
       "       'Employment Rate', 'Mean Dividend', 'Min Dividend', 'Max Dividend',\n",
       "       'Total Production'],\n",
       "      dtype='object')"
      ]
     },
     "execution_count": 4,
     "metadata": {},
     "output_type": "execute_result"
    }
   ],
   "source": [
    "data\n",
    "data.columns"
   ]
  },
  {
   "cell_type": "code",
   "execution_count": 5,
   "id": "79c3d5a1",
   "metadata": {},
   "outputs": [
    {
     "data": {
      "image/png": "[encoded data removed]",
      "text/plain": [
       "<Figure size 640x480 with 1 Axes>"
      ]
     },
     "metadata": {},
     "output_type": "display_data"
    }
   ],
   "source": [
    "g = sns.lineplot(data=data['Employment Rate'])"
   ]
  },
  {
   "cell_type": "code",
   "execution_count": null,
   "id": "4750a5e5",
   "metadata": {},
   "outputs": [],
   "source": []
  }
 ],
 "metadata": {
  "kernelspec": {
   "display_name": "latest_py",
   "language": "python",
   "name": "python3"
  },
  "language_info": {
   "codemirror_mode": {
    "name": "ipython",
    "version": 3
   },
   "file_extension": ".py",
   "mimetype": "text/x-python",
   "name": "python",
   "nbconvert_exporter": "python",
   "pygments_lexer": "ipython3",
   "version": "3.12.9"
  }
 },
 "nbformat": 4,
 "nbformat_minor": 5
}
